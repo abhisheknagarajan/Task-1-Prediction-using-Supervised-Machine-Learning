{
 "cells": [
  {
   "cell_type": "markdown",
   "id": "27e2e365",
   "metadata": {},
   "source": [
    "# Name: N Abhishek\n",
    "\n",
    "## Batch: July 2021\n",
    "## Domain: Data Science & Business Analytics"
   ]
  },
  {
   "cell_type": "markdown",
   "id": "381d1308",
   "metadata": {},
   "source": [
    "# Task 1: Prediction using Supervised Machine Learning "
   ]
  },
  {
   "cell_type": "markdown",
   "id": "8ac52a77",
   "metadata": {},
   "source": [
    "### Problem Statement"
   ]
  },
  {
   "cell_type": "markdown",
   "id": "a9aad286",
   "metadata": {},
   "source": [
    "Predict the percentage of an student based on the no. of study hours"
   ]
  },
  {
   "cell_type": "markdown",
   "id": "f2306f62",
   "metadata": {},
   "source": [
    "### Feature Description"
   ]
  },
  {
   "cell_type": "markdown",
   "id": "4cae234c",
   "metadata": {},
   "source": [
    "1. **Hours:** Number of hours student has studied in a day.(Independent Variable)\n",
    "2. **Scores:** Percentage of marks obtained by the student corresponding to the number of study hours.(Target Variable)"
   ]
  },
  {
   "cell_type": "markdown",
   "id": "5b1fe5e1",
   "metadata": {},
   "source": [
    "### Implementation\n",
    "\n",
    "1. Understanding the data\n",
    "2. Building a model\n",
    "3. Evaluationg the model\n",
    "4. Predicting the score if a student studies for 9.25 hrs/ day?"
   ]
  },
  {
   "cell_type": "markdown",
   "id": "5d5ab31d",
   "metadata": {},
   "source": [
    "#### Import Libraries"
   ]
  },
  {
   "cell_type": "code",
   "execution_count": 1,
   "id": "17e5413b",
   "metadata": {},
   "outputs": [],
   "source": [
    "import pandas as pd\n",
    "import numpy as np\n",
    "import matplotlib.pyplot as plt\n",
    "import seaborn as sns\n",
    "import warnings\n",
    "warnings.filterwarnings(\"ignore\")"
   ]
  },
  {
   "cell_type": "markdown",
   "id": "fd71adb7",
   "metadata": {},
   "source": [
    "## 1. Understanding the data"
   ]
  },
  {
   "cell_type": "code",
   "execution_count": 2,
   "id": "b8d9377d",
   "metadata": {},
   "outputs": [
    {
     "data": {
      "text/html": [
       "<div>\n",
       "<style scoped>\n",
       "    .dataframe tbody tr th:only-of-type {\n",
       "        vertical-align: middle;\n",
       "    }\n",
       "\n",
       "    .dataframe tbody tr th {\n",
       "        vertical-align: top;\n",
       "    }\n",
       "\n",
       "    .dataframe thead th {\n",
       "        text-align: right;\n",
       "    }\n",
       "</style>\n",
       "<table border=\"1\" class=\"dataframe\">\n",
       "  <thead>\n",
       "    <tr style=\"text-align: right;\">\n",
       "      <th></th>\n",
       "      <th>Hours</th>\n",
       "      <th>Scores</th>\n",
       "    </tr>\n",
       "  </thead>\n",
       "  <tbody>\n",
       "    <tr>\n",
       "      <th>0</th>\n",
       "      <td>2.5</td>\n",
       "      <td>21</td>\n",
       "    </tr>\n",
       "    <tr>\n",
       "      <th>1</th>\n",
       "      <td>5.1</td>\n",
       "      <td>47</td>\n",
       "    </tr>\n",
       "    <tr>\n",
       "      <th>2</th>\n",
       "      <td>3.2</td>\n",
       "      <td>27</td>\n",
       "    </tr>\n",
       "    <tr>\n",
       "      <th>3</th>\n",
       "      <td>8.5</td>\n",
       "      <td>75</td>\n",
       "    </tr>\n",
       "    <tr>\n",
       "      <th>4</th>\n",
       "      <td>3.5</td>\n",
       "      <td>30</td>\n",
       "    </tr>\n",
       "    <tr>\n",
       "      <th>5</th>\n",
       "      <td>1.5</td>\n",
       "      <td>20</td>\n",
       "    </tr>\n",
       "    <tr>\n",
       "      <th>6</th>\n",
       "      <td>9.2</td>\n",
       "      <td>88</td>\n",
       "    </tr>\n",
       "    <tr>\n",
       "      <th>7</th>\n",
       "      <td>5.5</td>\n",
       "      <td>60</td>\n",
       "    </tr>\n",
       "    <tr>\n",
       "      <th>8</th>\n",
       "      <td>8.3</td>\n",
       "      <td>81</td>\n",
       "    </tr>\n",
       "    <tr>\n",
       "      <th>9</th>\n",
       "      <td>2.7</td>\n",
       "      <td>25</td>\n",
       "    </tr>\n",
       "  </tbody>\n",
       "</table>\n",
       "</div>"
      ],
      "text/plain": [
       "   Hours  Scores\n",
       "0    2.5      21\n",
       "1    5.1      47\n",
       "2    3.2      27\n",
       "3    8.5      75\n",
       "4    3.5      30\n",
       "5    1.5      20\n",
       "6    9.2      88\n",
       "7    5.5      60\n",
       "8    8.3      81\n",
       "9    2.7      25"
      ]
     },
     "execution_count": 2,
     "metadata": {},
     "output_type": "execute_result"
    }
   ],
   "source": [
    "data=pd.read_csv(\"https://raw.githubusercontent.com/AdiPersonalWorks/Random/master/student_scores%20-%20student_scores.csv\")\n",
    "data.head(10)"
   ]
  },
  {
   "cell_type": "code",
   "execution_count": 3,
   "id": "0cfadf36",
   "metadata": {},
   "outputs": [
    {
     "data": {
      "text/plain": [
       "(25, 2)"
      ]
     },
     "execution_count": 3,
     "metadata": {},
     "output_type": "execute_result"
    }
   ],
   "source": [
    "data.shape"
   ]
  },
  {
   "cell_type": "markdown",
   "id": "8c6053a3",
   "metadata": {},
   "source": [
    "The dataset has records of 25 students and their scores correspondong to their study hours."
   ]
  },
  {
   "cell_type": "code",
   "execution_count": 4,
   "id": "0c667741",
   "metadata": {},
   "outputs": [
    {
     "name": "stdout",
     "output_type": "stream",
     "text": [
      "<class 'pandas.core.frame.DataFrame'>\n",
      "RangeIndex: 25 entries, 0 to 24\n",
      "Data columns (total 2 columns):\n",
      " #   Column  Non-Null Count  Dtype  \n",
      "---  ------  --------------  -----  \n",
      " 0   Hours   25 non-null     float64\n",
      " 1   Scores  25 non-null     int64  \n",
      "dtypes: float64(1), int64(1)\n",
      "memory usage: 528.0 bytes\n"
     ]
    }
   ],
   "source": [
    "data.info()"
   ]
  },
  {
   "cell_type": "markdown",
   "id": "5ec4e07c",
   "metadata": {},
   "source": [
    "Hours is of type 'Float' and Scores of type 'Integer'. Hence the datatypes assigned are correct as per the Analysis."
   ]
  },
  {
   "cell_type": "markdown",
   "id": "4f822371",
   "metadata": {},
   "source": [
    "#### Summary Statistics"
   ]
  },
  {
   "cell_type": "code",
   "execution_count": 5,
   "id": "dddaabd1",
   "metadata": {},
   "outputs": [
    {
     "data": {
      "text/html": [
       "<div>\n",
       "<style scoped>\n",
       "    .dataframe tbody tr th:only-of-type {\n",
       "        vertical-align: middle;\n",
       "    }\n",
       "\n",
       "    .dataframe tbody tr th {\n",
       "        vertical-align: top;\n",
       "    }\n",
       "\n",
       "    .dataframe thead th {\n",
       "        text-align: right;\n",
       "    }\n",
       "</style>\n",
       "<table border=\"1\" class=\"dataframe\">\n",
       "  <thead>\n",
       "    <tr style=\"text-align: right;\">\n",
       "      <th></th>\n",
       "      <th>count</th>\n",
       "      <th>mean</th>\n",
       "      <th>std</th>\n",
       "      <th>min</th>\n",
       "      <th>25%</th>\n",
       "      <th>50%</th>\n",
       "      <th>75%</th>\n",
       "      <th>max</th>\n",
       "    </tr>\n",
       "  </thead>\n",
       "  <tbody>\n",
       "    <tr>\n",
       "      <th>Hours</th>\n",
       "      <td>25.0</td>\n",
       "      <td>5.012</td>\n",
       "      <td>2.525094</td>\n",
       "      <td>1.1</td>\n",
       "      <td>2.7</td>\n",
       "      <td>4.8</td>\n",
       "      <td>7.4</td>\n",
       "      <td>9.2</td>\n",
       "    </tr>\n",
       "    <tr>\n",
       "      <th>Scores</th>\n",
       "      <td>25.0</td>\n",
       "      <td>51.480</td>\n",
       "      <td>25.286887</td>\n",
       "      <td>17.0</td>\n",
       "      <td>30.0</td>\n",
       "      <td>47.0</td>\n",
       "      <td>75.0</td>\n",
       "      <td>95.0</td>\n",
       "    </tr>\n",
       "  </tbody>\n",
       "</table>\n",
       "</div>"
      ],
      "text/plain": [
       "        count    mean        std   min   25%   50%   75%   max\n",
       "Hours    25.0   5.012   2.525094   1.1   2.7   4.8   7.4   9.2\n",
       "Scores   25.0  51.480  25.286887  17.0  30.0  47.0  75.0  95.0"
      ]
     },
     "execution_count": 5,
     "metadata": {},
     "output_type": "execute_result"
    }
   ],
   "source": [
    "data.describe().T"
   ]
  },
  {
   "cell_type": "markdown",
   "id": "1fdc5229",
   "metadata": {},
   "source": [
    "The describe function gives information about the statistical measures such as mean, standard deviation, values for the different quartile ranges for both the features.\n",
    "\n",
    "Max hours that a student has studied is **9.2 hrs**.<br>\n",
    "Min hours that a student has studied is **1.1 hrs**.<br>\n",
    "Max marks obtained by any student is **95**.<br>\n",
    "Min marks obtained by any student is **17**."
   ]
  },
  {
   "cell_type": "code",
   "execution_count": 6,
   "id": "0d34bb1a",
   "metadata": {},
   "outputs": [
    {
     "data": {
      "image/png": "[encoded data removed]",
      "text/plain": [
       "<Figure size 432x288 with 9 Axes>"
      ]
     },
     "metadata": {
      "needs_background": "light"
     },
     "output_type": "display_data"
    }
   ],
   "source": [
    "data.describe().T.hist()\n",
    "plt.show()"
   ]
  },
  {
   "cell_type": "markdown",
   "id": "5cc692ed",
   "metadata": {},
   "source": [
    " Let us see the marks obtained for the student with 9.2/1.1 hours of study"
   ]
  },
  {
   "cell_type": "code",
   "execution_count": 7,
   "id": "8313fbdb",
   "metadata": {},
   "outputs": [
    {
     "data": {
      "text/html": [
       "<div>\n",
       "<style scoped>\n",
       "    .dataframe tbody tr th:only-of-type {\n",
       "        vertical-align: middle;\n",
       "    }\n",
       "\n",
       "    .dataframe tbody tr th {\n",
       "        vertical-align: top;\n",
       "    }\n",
       "\n",
       "    .dataframe thead th {\n",
       "        text-align: right;\n",
       "    }\n",
       "</style>\n",
       "<table border=\"1\" class=\"dataframe\">\n",
       "  <thead>\n",
       "    <tr style=\"text-align: right;\">\n",
       "      <th></th>\n",
       "      <th>Hours</th>\n",
       "      <th>Scores</th>\n",
       "    </tr>\n",
       "  </thead>\n",
       "  <tbody>\n",
       "    <tr>\n",
       "      <th>6</th>\n",
       "      <td>9.2</td>\n",
       "      <td>88</td>\n",
       "    </tr>\n",
       "  </tbody>\n",
       "</table>\n",
       "</div>"
      ],
      "text/plain": [
       "   Hours  Scores\n",
       "6    9.2      88"
      ]
     },
     "execution_count": 7,
     "metadata": {},
     "output_type": "execute_result"
    }
   ],
   "source": [
    "data[data.Hours==9.2]"
   ]
  },
  {
   "cell_type": "markdown",
   "id": "a10dd46c",
   "metadata": {},
   "source": [
    "Since the maximum marks is 95, the student who has studied for the highest number of hours has not scored the Highest."
   ]
  },
  {
   "cell_type": "code",
   "execution_count": 8,
   "id": "770a9e18",
   "metadata": {},
   "outputs": [
    {
     "data": {
      "text/html": [
       "<div>\n",
       "<style scoped>\n",
       "    .dataframe tbody tr th:only-of-type {\n",
       "        vertical-align: middle;\n",
       "    }\n",
       "\n",
       "    .dataframe tbody tr th {\n",
       "        vertical-align: top;\n",
       "    }\n",
       "\n",
       "    .dataframe thead th {\n",
       "        text-align: right;\n",
       "    }\n",
       "</style>\n",
       "<table border=\"1\" class=\"dataframe\">\n",
       "  <thead>\n",
       "    <tr style=\"text-align: right;\">\n",
       "      <th></th>\n",
       "      <th>Hours</th>\n",
       "      <th>Scores</th>\n",
       "    </tr>\n",
       "  </thead>\n",
       "  <tbody>\n",
       "    <tr>\n",
       "      <th>14</th>\n",
       "      <td>1.1</td>\n",
       "      <td>17</td>\n",
       "    </tr>\n",
       "  </tbody>\n",
       "</table>\n",
       "</div>"
      ],
      "text/plain": [
       "    Hours  Scores\n",
       "14    1.1      17"
      ]
     },
     "execution_count": 8,
     "metadata": {},
     "output_type": "execute_result"
    }
   ],
   "source": [
    "data[data.Hours==1.1]"
   ]
  },
  {
   "cell_type": "markdown",
   "id": "525796ad",
   "metadata": {},
   "source": [
    "The student who has studied for the least number of hours is the one who scored the Least."
   ]
  },
  {
   "cell_type": "code",
   "execution_count": 10,
   "id": "4ac50acb",
   "metadata": {},
   "outputs": [
    {
     "data": {
      "text/html": [
       "<div>\n",
       "<style scoped>\n",
       "    .dataframe tbody tr th:only-of-type {\n",
       "        vertical-align: middle;\n",
       "    }\n",
       "\n",
       "    .dataframe tbody tr th {\n",
       "        vertical-align: top;\n",
       "    }\n",
       "\n",
       "    .dataframe thead th {\n",
       "        text-align: right;\n",
       "    }\n",
       "</style>\n",
       "<table border=\"1\" class=\"dataframe\">\n",
       "  <thead>\n",
       "    <tr style=\"text-align: right;\">\n",
       "      <th></th>\n",
       "      <th>Hours</th>\n",
       "      <th>Scores</th>\n",
       "    </tr>\n",
       "  </thead>\n",
       "  <tbody>\n",
       "    <tr>\n",
       "      <th>15</th>\n",
       "      <td>8.9</td>\n",
       "      <td>95</td>\n",
       "    </tr>\n",
       "  </tbody>\n",
       "</table>\n",
       "</div>"
      ],
      "text/plain": [
       "    Hours  Scores\n",
       "15    8.9      95"
      ]
     },
     "execution_count": 10,
     "metadata": {},
     "output_type": "execute_result"
    }
   ],
   "source": [
    "# Let us the number of hours that the topper invested.\n",
    "data[data.Scores==data.Scores.max()]"
   ]
  },
  {
   "cell_type": "markdown",
   "id": "c668bde8",
   "metadata": {},
   "source": [
    "The student with the highest marks of 95 has put in 8.9 hours of study time which is 0.3 hours less than the student who has spent maximum of 9.2 hours."
   ]
  },
  {
   "cell_type": "markdown",
   "id": "2e4ff389",
   "metadata": {},
   "source": [
    "### Missing value checker"
   ]
  },
  {
   "cell_type": "code",
   "execution_count": 11,
   "id": "ff16d027",
   "metadata": {},
   "outputs": [
    {
     "data": {
      "text/plain": [
       "Hours     0\n",
       "Scores    0\n",
       "dtype: int64"
      ]
     },
     "execution_count": 11,
     "metadata": {},
     "output_type": "execute_result"
    }
   ],
   "source": [
    "data.isna().sum()"
   ]
  },
  {
   "cell_type": "markdown",
   "id": "cbd58551",
   "metadata": {},
   "source": [
    "#### Checking for non-standard missing values"
   ]
  },
  {
   "cell_type": "code",
   "execution_count": 12,
   "id": "a6cf7e5f",
   "metadata": {},
   "outputs": [
    {
     "name": "stdout",
     "output_type": "stream",
     "text": [
      "Unique values for the column: Hours\n",
      "[1.1 1.5 1.9 2.5 2.7 3.2 3.3 3.5 3.8 4.5 4.8 5.1 5.5 5.9 6.1 6.9 7.4 7.7\n",
      " 7.8 8.3 8.5 8.9 9.2]\n",
      "Unique values for the column: Scores\n",
      "[17 20 21 24 25 27 30 35 41 42 47 54 60 62 67 69 75 76 81 85 86 88 95]\n"
     ]
    }
   ],
   "source": [
    "for i in data.columns:\n",
    "    print(\"Unique values for the column:\",i)\n",
    "    print(np.unique(data[i]))"
   ]
  },
  {
   "cell_type": "markdown",
   "id": "81505f62",
   "metadata": {},
   "source": [
    "It is evident that there are no missing values present in the above columns."
   ]
  },
  {
   "cell_type": "markdown",
   "id": "88f6c5a3",
   "metadata": {},
   "source": [
    "#### duplicate entries"
   ]
  },
  {
   "cell_type": "code",
   "execution_count": 13,
   "id": "f7192370",
   "metadata": {},
   "outputs": [
    {
     "data": {
      "text/plain": [
       "0"
      ]
     },
     "execution_count": 13,
     "metadata": {},
     "output_type": "execute_result"
    }
   ],
   "source": [
    "len(data[data.duplicated()])"
   ]
  },
  {
   "cell_type": "markdown",
   "id": "3033efbd",
   "metadata": {},
   "source": [
    "There are no duplicate records in the dataset."
   ]
  },
  {
   "cell_type": "markdown",
   "id": "b051ac15",
   "metadata": {},
   "source": [
    "####  Distribution Check"
   ]
  },
  {
   "cell_type": "code",
   "execution_count": 14,
   "id": "791808f8",
   "metadata": {},
   "outputs": [
    {
     "name": "stdout",
     "output_type": "stream",
     "text": [
      "Skew values of Variables:\n",
      "Hours     0.190338\n",
      "Scores    0.233965\n",
      "dtype: float64\n"
     ]
    },
    {
     "data": {
      "image/png": "[encoded data removed]",
      "text/plain": [
       "<Figure size 432x288 with 2 Axes>"
      ]
     },
     "metadata": {
      "needs_background": "light"
     },
     "output_type": "display_data"
    }
   ],
   "source": [
    "print(\"Skew values of Variables:\")\n",
    "print(data.skew())\n",
    "\n",
    "data.hist()\n",
    "plt.show()"
   ]
  },
  {
   "cell_type": "markdown",
   "id": "b807e425",
   "metadata": {},
   "source": [
    "From the above histogram plot, we see both the variables are normally distributed and their skew values are closer to 0."
   ]
  },
  {
   "cell_type": "markdown",
   "id": "3708c4c1",
   "metadata": {},
   "source": [
    "#### Outlier Check"
   ]
  },
  {
   "cell_type": "code",
   "execution_count": 15,
   "id": "4e29595e",
   "metadata": {},
   "outputs": [
    {
     "data": {
      "image/png": "[encoded data removed]",
      "text/plain": [
       "<Figure size 432x288 with 1 Axes>"
      ]
     },
     "metadata": {
      "needs_background": "light"
     },
     "output_type": "display_data"
    }
   ],
   "source": [
    "data.boxplot()\n",
    "plt.show()"
   ]
  },
  {
   "cell_type": "markdown",
   "id": "58fe76ff",
   "metadata": {},
   "source": [
    "There are no outliers in any of the columns."
   ]
  },
  {
   "cell_type": "markdown",
   "id": "720a38e1",
   "metadata": {},
   "source": [
    "#### Checking for realationship between target and independent variable."
   ]
  },
  {
   "cell_type": "code",
   "execution_count": 18,
   "id": "d0026068",
   "metadata": {},
   "outputs": [
    {
     "data": {
      "image/png": "[encoded data removed]",
      "text/plain": [
       "<Figure size 432x288 with 2 Axes>"
      ]
     },
     "metadata": {
      "needs_background": "light"
     },
     "output_type": "display_data"
    }
   ],
   "source": [
    "sns.heatmap(data.corr(),annot=True,cmap='BuGn_r')\n",
    "plt.title(\"Heatmap of Hours vs Scores\")\n",
    "plt.show()"
   ]
  },
  {
   "cell_type": "markdown",
   "id": "418dea9c",
   "metadata": {},
   "source": [
    "heatmap shows that Scores and Hours are strongly related with a correlation of 0.98 hence indicating linear relationship between Dependent and Independent."
   ]
  },
  {
   "cell_type": "markdown",
   "id": "bc016fee",
   "metadata": {},
   "source": [
    "## General Summary"
   ]
  },
  {
   "cell_type": "markdown",
   "id": "2d9301dd",
   "metadata": {},
   "source": [
    "1. The dataset has records of 25 students and their scores correspondong to their study hours.\n",
    "2. Hours is of type 'Float' and Scores of type 'Integer'. Hence the datatypes assigned are correct as per the Analysis.\n",
    "3. Since the maximum marks is 95, the student who has studied for the highest number of hours has not scored the Highest.\n",
    "4. The student who has studied for the least number of hours is the one who scored the Least.\n",
    "5. The student with the highest marks of 95 has put in 8.9 hours of study time which is 0.3 hours less than the student who has spent maximum of 9.2 hours.\n",
    "6. Both the variables are normally distributed and their skew values are closer to 0.\n",
    "7. heatmap shows that Scores and Hours are strongly related with a correlation of 0.98 hence indicating linear relationship between Dependent and Independent."
   ]
  },
  {
   "cell_type": "markdown",
   "id": "fe95d446",
   "metadata": {},
   "source": [
    "## 2. Building a Simple Linear Regression Model"
   ]
  },
  {
   "cell_type": "code",
   "execution_count": 19,
   "id": "2c428bdb",
   "metadata": {},
   "outputs": [
    {
     "data": {
      "text/html": [
       "<div>\n",
       "<style scoped>\n",
       "    .dataframe tbody tr th:only-of-type {\n",
       "        vertical-align: middle;\n",
       "    }\n",
       "\n",
       "    .dataframe tbody tr th {\n",
       "        vertical-align: top;\n",
       "    }\n",
       "\n",
       "    .dataframe thead th {\n",
       "        text-align: right;\n",
       "    }\n",
       "</style>\n",
       "<table border=\"1\" class=\"dataframe\">\n",
       "  <thead>\n",
       "    <tr style=\"text-align: right;\">\n",
       "      <th></th>\n",
       "      <th>Hours</th>\n",
       "    </tr>\n",
       "  </thead>\n",
       "  <tbody>\n",
       "    <tr>\n",
       "      <th>0</th>\n",
       "      <td>2.5</td>\n",
       "    </tr>\n",
       "    <tr>\n",
       "      <th>1</th>\n",
       "      <td>5.1</td>\n",
       "    </tr>\n",
       "    <tr>\n",
       "      <th>2</th>\n",
       "      <td>3.2</td>\n",
       "    </tr>\n",
       "    <tr>\n",
       "      <th>3</th>\n",
       "      <td>8.5</td>\n",
       "    </tr>\n",
       "    <tr>\n",
       "      <th>4</th>\n",
       "      <td>3.5</td>\n",
       "    </tr>\n",
       "  </tbody>\n",
       "</table>\n",
       "</div>"
      ],
      "text/plain": [
       "   Hours\n",
       "0    2.5\n",
       "1    5.1\n",
       "2    3.2\n",
       "3    8.5\n",
       "4    3.5"
      ]
     },
     "execution_count": 19,
     "metadata": {},
     "output_type": "execute_result"
    }
   ],
   "source": [
    "# Defining the target as y and independent variable as X\n",
    "\n",
    "X=data.drop(\"Scores\",axis=1)\n",
    "y=data[\"Scores\"]\n",
    "X.head()"
   ]
  },
  {
   "cell_type": "code",
   "execution_count": 20,
   "id": "9506c2f6",
   "metadata": {},
   "outputs": [
    {
     "data": {
      "text/plain": [
       "0    21\n",
       "1    47\n",
       "2    27\n",
       "3    75\n",
       "4    30\n",
       "Name: Scores, dtype: int64"
      ]
     },
     "execution_count": 20,
     "metadata": {},
     "output_type": "execute_result"
    }
   ],
   "source": [
    "y.head()"
   ]
  },
  {
   "cell_type": "markdown",
   "id": "63f92c38",
   "metadata": {},
   "source": [
    "### Train-Test Split"
   ]
  },
  {
   "cell_type": "code",
   "execution_count": 21,
   "id": "19b68002",
   "metadata": {},
   "outputs": [],
   "source": [
    "from sklearn.model_selection import train_test_split\n",
    "\n",
    "X_train,X_test,y_train,y_test=train_test_split(X,y,test_size=0.2,random_state=10)"
   ]
  },
  {
   "cell_type": "markdown",
   "id": "c00cbf30",
   "metadata": {},
   "source": [
    "### Linear Regression model from sci-kit learn\n"
   ]
  },
  {
   "cell_type": "code",
   "execution_count": 22,
   "id": "084335a6",
   "metadata": {},
   "outputs": [],
   "source": [
    "from sklearn.linear_model import LinearRegression\n",
    "\n",
    "# Instantiate the LinearRegression object\n",
    "lr=LinearRegression()\n",
    "\n",
    "# Fit the model on the train data\n",
    "lr_fit=lr.fit(X_train,y_train)\n",
    "\n",
    "# Prediction for train and test\n",
    "pred_train=lr_fit.predict(X_train)\n",
    "pred_test=lr_fit.predict(X_test)"
   ]
  },
  {
   "cell_type": "markdown",
   "id": "3cae98aa",
   "metadata": {},
   "source": [
    "## 3. Model Performance Evaluation"
   ]
  },
  {
   "cell_type": "code",
   "execution_count": 23,
   "id": "3950e267",
   "metadata": {},
   "outputs": [
    {
     "name": "stdout",
     "output_type": "stream",
     "text": [
      "The R-Squared value:  0.958\n"
     ]
    }
   ],
   "source": [
    "# Checking r2_score\n",
    "\n",
    "r2_score=lr_fit.score(X_train,y_train)\n",
    "print(\"The R-Squared value: \",round(r2_score,3))"
   ]
  },
  {
   "cell_type": "markdown",
   "id": "9418d96a",
   "metadata": {},
   "source": [
    "The r-squared value is 0.95.\n",
    "\n",
    "This means that the the target variable is able explain 95% of the variance due to the independent variable."
   ]
  },
  {
   "cell_type": "code",
   "execution_count": 24,
   "id": "3dc963b2",
   "metadata": {},
   "outputs": [],
   "source": [
    "from sklearn.metrics import *"
   ]
  },
  {
   "cell_type": "code",
   "execution_count": 25,
   "id": "be4a9d89",
   "metadata": {},
   "outputs": [],
   "source": [
    "model_perfomance_score=pd.DataFrame(columns=[\"Train/Test\",\"MAPE\",\"RMSE\",\"MAE\"])\n",
    "def model_perfomance_score_update(name,actual,predicted):\n",
    "    global model_perfomance_score\n",
    "    model_perfomance_score=model_perfomance_score.append({\"Train/Test\":name,\n",
    "                                                          \"MAPE\":round(mean_absolute_percentage_error(actual,predicted),2),\n",
    "                                                          \"RMSE\":round(np.sqrt(mean_squared_error(actual,predicted)),2),\n",
    "                                                          \"MAE\":round(mean_absolute_error(actual,predicted),2)\n",
    "                                                         },ignore_index=True)"
   ]
  },
  {
   "cell_type": "code",
   "execution_count": 26,
   "id": "6393e670",
   "metadata": {},
   "outputs": [
    {
     "data": {
      "text/html": [
       "<div>\n",
       "<style scoped>\n",
       "    .dataframe tbody tr th:only-of-type {\n",
       "        vertical-align: middle;\n",
       "    }\n",
       "\n",
       "    .dataframe tbody tr th {\n",
       "        vertical-align: top;\n",
       "    }\n",
       "\n",
       "    .dataframe thead th {\n",
       "        text-align: right;\n",
       "    }\n",
       "</style>\n",
       "<table border=\"1\" class=\"dataframe\">\n",
       "  <thead>\n",
       "    <tr style=\"text-align: right;\">\n",
       "      <th></th>\n",
       "      <th>MAPE</th>\n",
       "      <th>RMSE</th>\n",
       "      <th>MAE</th>\n",
       "    </tr>\n",
       "    <tr>\n",
       "      <th>Train/Test</th>\n",
       "      <th></th>\n",
       "      <th></th>\n",
       "      <th></th>\n",
       "    </tr>\n",
       "  </thead>\n",
       "  <tbody>\n",
       "    <tr>\n",
       "      <th>Train</th>\n",
       "      <td>0.11</td>\n",
       "      <td>5.26</td>\n",
       "      <td>4.77</td>\n",
       "    </tr>\n",
       "    <tr>\n",
       "      <th>Test</th>\n",
       "      <td>0.16</td>\n",
       "      <td>5.86</td>\n",
       "      <td>5.63</td>\n",
       "    </tr>\n",
       "  </tbody>\n",
       "</table>\n",
       "</div>"
      ],
      "text/plain": [
       "            MAPE  RMSE   MAE\n",
       "Train/Test                  \n",
       "Train       0.11  5.26  4.77\n",
       "Test        0.16  5.86  5.63"
      ]
     },
     "execution_count": 26,
     "metadata": {},
     "output_type": "execute_result"
    }
   ],
   "source": [
    "model_perfomance_score_update(\"Train\",y_train,pred_train)\n",
    "model_perfomance_score_update(\"Test\",y_test,pred_test)\n",
    "model_perfomance_score=model_perfomance_score.set_index(\"Train/Test\")\n",
    "model_perfomance_score"
   ]
  },
  {
   "cell_type": "markdown",
   "id": "d0f9dd6d",
   "metadata": {},
   "source": [
    "Model is slightly overfitted on the Train data as the error on the train data is less than that of the test data.\n",
    "\n",
    "But still the degree is overfitting is not  too high. It is acceptable."
   ]
  },
  {
   "cell_type": "markdown",
   "id": "fd07c2be",
   "metadata": {},
   "source": [
    "### Residual distribution Check"
   ]
  },
  {
   "cell_type": "code",
   "execution_count": 27,
   "id": "50a781c2",
   "metadata": {},
   "outputs": [
    {
     "data": {
      "text/plain": [
       "5     2.628577\n",
       "1    -5.702923\n",
       "13    6.962827\n",
       "2    -7.055743\n",
       "12   -5.814340\n",
       "Name: Scores, dtype: float64"
      ]
     },
     "execution_count": 27,
     "metadata": {},
     "output_type": "execute_result"
    }
   ],
   "source": [
    "residual= y_test-pred_test\n",
    "residual"
   ]
  },
  {
   "cell_type": "code",
   "execution_count": 28,
   "id": "ec1d3875",
   "metadata": {},
   "outputs": [
    {
     "name": "stdout",
     "output_type": "stream",
     "text": [
      "Residual Skewness: 0.8411274858317233\n"
     ]
    },
    {
     "data": {
      "image/png": "[encoded data removed]",
      "text/plain": [
       "<Figure size 432x288 with 1 Axes>"
      ]
     },
     "metadata": {
      "needs_background": "light"
     },
     "output_type": "display_data"
    }
   ],
   "source": [
    "print(\"Residual Skewness:\",residual.skew())\n",
    "sns.distplot(x=residual)\n",
    "plt.show()"
   ]
  },
  {
   "cell_type": "markdown",
   "id": "909e1059",
   "metadata": {},
   "source": [
    "From the distplot we can say the residuals are normally distributed. This is an indication that our model's performance is GOOD."
   ]
  },
  {
   "cell_type": "markdown",
   "id": "8e1da5a6",
   "metadata": {},
   "source": [
    "### 4. Predicting the score if a student studies for 9.25 hrs/ day?"
   ]
  },
  {
   "cell_type": "code",
   "execution_count": 29,
   "id": "ab472f88",
   "metadata": {},
   "outputs": [
    {
     "name": "stdout",
     "output_type": "stream",
     "text": [
      "The predicted score if a student studies 9.25 hours in a day is: 93.43\n"
     ]
    }
   ],
   "source": [
    "hours_day=9.25\n",
    "hours_day=np.array(hours_day).reshape(1, -1)\n",
    "print(\"The predicted score if a student studies\",hours_day[0][0],\"hours in a day is:\",round(lr_fit.predict(hours_day)[0],2))"
   ]
  },
  {
   "cell_type": "code",
   "execution_count": null,
   "id": "1c45a637",
   "metadata": {},
   "outputs": [],
   "source": []
  }
 ],
 "metadata": {
  "hide_input": false,
  "kernelspec": {
   "display_name": "Python 3",
   "language": "python",
   "name": "python3"
  },
  "language_info": {
   "codemirror_mode": {
    "name": "ipython",
    "version": 3
   },
   "file_extension": ".py",
   "mimetype": "text/x-python",
   "name": "python",
   "nbconvert_exporter": "python",
   "pygments_lexer": "ipython3",
   "version": "3.6.13"
  }
 },
 "nbformat": 4,
 "nbformat_minor": 5
}
